{
 "cells": [
  {
   "cell_type": "markdown",
   "id": "61865869",
   "metadata": {},
   "source": [
    "# 1. Create a Pandas DataFrame with below given two-dimensional list \n",
    "## [['Ram', 25], ['Ramesh', 30], ['Shyam', 26], ['Naresh', 22]] "
   ]
  },
  {
   "cell_type": "code",
   "execution_count": 4,
   "id": "174a06ea",
   "metadata": {},
   "outputs": [
    {
     "name": "stdout",
     "output_type": "stream",
     "text": [
      "     Name  Age\n",
      "0     Ram   25\n",
      "1  Ramesh   30\n",
      "2   Shyam   26\n",
      "3  Naresh   22\n"
     ]
    }
   ],
   "source": [
    "import pandas as pd\n",
    "\n",
    "# Create a list of lists\n",
    "data = [['Ram', 25], ['Ramesh', 30], ['Shyam', 26], ['Naresh', 22]]\n",
    "\n",
    "# Create a Pandas DataFrame from the list of lists\n",
    "df = pd.DataFrame(data, columns=['Name', 'Age'])\n",
    "\n",
    "# Print the DataFrame\n",
    "print(df)"
   ]
  },
  {
   "cell_type": "markdown",
   "id": "e9d4c6ac",
   "metadata": {},
   "source": [
    "# 2.  Create a Pandas DataFrame with below given dictionary object?\n",
    "## data = {'Subject':['Math', 'Physics', 'Chemistry'],  'Marks':[20, 21, 19]} "
   ]
  },
  {
   "cell_type": "code",
   "execution_count": 5,
   "id": "96095c6f",
   "metadata": {},
   "outputs": [
    {
     "name": "stdout",
     "output_type": "stream",
     "text": [
      "     Subject  Marks\n",
      "0       Math     20\n",
      "1    Physics     21\n",
      "2  Chemistry     19\n"
     ]
    }
   ],
   "source": [
    "import pandas as pd\n",
    "\n",
    "# Create the dictionary object\n",
    "data = {'Subject':['Math', 'Physics', 'Chemistry'], 'Marks':[20, 21, 19]}\n",
    "\n",
    "# Create a Pandas DataFrame from the dictionary\n",
    "df = pd.DataFrame(data)\n",
    "\n",
    "# Print the DataFrame\n",
    "print(df)\n"
   ]
  },
  {
   "cell_type": "markdown",
   "id": "b14d2fe4",
   "metadata": {},
   "source": [
    "# 3. Create a JSON file for below object and Create a Pandas DataFrame using the created JSON file?\n",
    "##   {\"Courses\":{\"r1\":\"Spark\"},\"Fee\":{\"r1\":\"25000\"},\"Duration\":{\"r1\":\"50 Days\"}} "
   ]
  },
  {
   "cell_type": "code",
   "execution_count": null,
   "id": "e17cc377",
   "metadata": {},
   "outputs": [],
   "source": [
    "import pandas as pd\n",
    "\n",
    "# Read the JSON data from the file and create a DataFrame\n",
    "df = pd.read_json('data.json')\n",
    "\n",
    "# Print the DataFrame\n",
    "print(df)"
   ]
  },
  {
   "cell_type": "markdown",
   "id": "4664a443",
   "metadata": {},
   "source": [
    "### data.json file has been created in working directory in order to fetch it \n"
   ]
  },
  {
   "cell_type": "markdown",
   "id": "aed51d92",
   "metadata": {},
   "source": [
    "# Unit-II Python GUI - Tkinter"
   ]
  },
  {
   "cell_type": "markdown",
   "id": "a42e8523",
   "metadata": {},
   "source": [
    "## 1. Create Python Tkinter GUI program to add a button in your application using tkinter module."
   ]
  },
  {
   "cell_type": "code",
   "execution_count": 9,
   "id": "1f12a671",
   "metadata": {},
   "outputs": [],
   "source": [
    "import tkinter as tk\n",
    "\n",
    "# Create a new Tkinter window\n",
    "root = tk.Tk()\n",
    "\n",
    "# Set the window title\n",
    "root.title(\"My GUI Application\")\n",
    "\n",
    "# Create a button\n",
    "button = tk.Button(root, text=\"Click me!\")\n",
    "\n",
    "# Pack the button in the window\n",
    "button.pack()\n",
    "\n",
    "# Start the Tkinter event loop\n",
    "root.mainloop()\n"
   ]
  },
  {
   "cell_type": "markdown",
   "id": "ffabf33c",
   "metadata": {},
   "source": [
    "# Unit-III Machine Learning"
   ]
  },
  {
   "cell_type": "markdown",
   "id": "985bc0f5",
   "metadata": {},
   "source": [
    "## 1. Create Python Jupyter notebook of Sk-Learn program using Linear Regression(LR) technique to train a LR model for prediction of house prices?"
   ]
  },
  {
   "cell_type": "code",
   "execution_count": 7,
   "id": "e1db9391",
   "metadata": {},
   "outputs": [
    {
     "name": "stdout",
     "output_type": "stream",
     "text": [
      "Mean squared error:  24.291119474973428\n",
      "R2 score:  0.6687594935356332\n"
     ]
    },
    {
     "name": "stderr",
     "output_type": "stream",
     "text": [
      "C:\\Users\\Sahil Dharaviya\\anaconda3\\lib\\site-packages\\sklearn\\utils\\deprecation.py:87: FutureWarning: Function load_boston is deprecated; `load_boston` is deprecated in 1.0 and will be removed in 1.2.\n",
      "\n",
      "    The Boston housing prices dataset has an ethical problem. You can refer to\n",
      "    the documentation of this function for further details.\n",
      "\n",
      "    The scikit-learn maintainers therefore strongly discourage the use of this\n",
      "    dataset unless the purpose of the code is to study and educate about\n",
      "    ethical issues in data science and machine learning.\n",
      "\n",
      "    In this special case, you can fetch the dataset from the original\n",
      "    source::\n",
      "\n",
      "        import pandas as pd\n",
      "        import numpy as np\n",
      "\n",
      "\n",
      "        data_url = \"http://lib.stat.cmu.edu/datasets/boston\"\n",
      "        raw_df = pd.read_csv(data_url, sep=\"\\s+\", skiprows=22, header=None)\n",
      "        data = np.hstack([raw_df.values[::2, :], raw_df.values[1::2, :2]])\n",
      "        target = raw_df.values[1::2, 2]\n",
      "\n",
      "    Alternative datasets include the California housing dataset (i.e.\n",
      "    :func:`~sklearn.datasets.fetch_california_housing`) and the Ames housing\n",
      "    dataset. You can load the datasets as follows::\n",
      "\n",
      "        from sklearn.datasets import fetch_california_housing\n",
      "        housing = fetch_california_housing()\n",
      "\n",
      "    for the California housing dataset and::\n",
      "\n",
      "        from sklearn.datasets import fetch_openml\n",
      "        housing = fetch_openml(name=\"house_prices\", as_frame=True)\n",
      "\n",
      "    for the Ames housing dataset.\n",
      "    \n",
      "  warnings.warn(msg, category=FutureWarning)\n"
     ]
    }
   ],
   "source": [
    "# Import the necessary libraries\n",
    "import pandas as pd\n",
    "import numpy as np\n",
    "from sklearn.linear_model import LinearRegression\n",
    "from sklearn.model_selection import train_test_split\n",
    "from sklearn.metrics import mean_squared_error, r2_score\n",
    "from sklearn.datasets import load_boston\n",
    "\n",
    "# Load the Boston Housing dataset\n",
    "boston = load_boston()\n",
    "\n",
    "# Convert the dataset to a Pandas DataFrame\n",
    "df = pd.DataFrame(boston.data, columns=boston.feature_names)\n",
    "\n",
    "# Add the target variable to the DataFrame\n",
    "df['price'] = boston.target\n",
    "\n",
    "# Split the data into training and test sets\n",
    "X_train, X_test, y_train, y_test = train_test_split(df.drop('price', axis=1), df['price'], test_size=0.2, random_state=42)\n",
    "\n",
    "# Create a linear regression model\n",
    "lr = LinearRegression()\n",
    "\n",
    "# Train the model on the training set\n",
    "lr.fit(X_train, y_train)\n",
    "\n",
    "# Make predictions on the test set\n",
    "y_pred = lr.predict(X_test)\n",
    "\n",
    "# Evaluate the model using mean squared error and r2 score\n",
    "mse = mean_squared_error(y_test, y_pred)\n",
    "r2 = r2_score(y_test, y_pred)\n",
    "\n",
    "# Print the results\n",
    "print('Mean squared error: ', mse)\n",
    "print('R2 score: ', r2)\n"
   ]
  },
  {
   "cell_type": "markdown",
   "id": "ff3b306e",
   "metadata": {},
   "source": [
    "## 2. Create Python Jupyter notebook of Sk-Learn program using Linear Regression(LR) to classify cancer samples diagnosed as Benign or Malignant  "
   ]
  },
  {
   "cell_type": "code",
   "execution_count": 10,
   "id": "765e3336",
   "metadata": {},
   "outputs": [
    {
     "name": "stdout",
     "output_type": "stream",
     "text": [
      "              precision    recall  f1-score   support\n",
      "\n",
      "           0       0.97      0.91      0.94        43\n",
      "           1       0.95      0.99      0.97        71\n",
      "\n",
      "    accuracy                           0.96       114\n",
      "   macro avg       0.96      0.95      0.95       114\n",
      "weighted avg       0.96      0.96      0.96       114\n",
      "\n"
     ]
    },
    {
     "name": "stderr",
     "output_type": "stream",
     "text": [
      "C:\\Users\\Sahil Dharaviya\\anaconda3\\lib\\site-packages\\sklearn\\linear_model\\_logistic.py:814: ConvergenceWarning: lbfgs failed to converge (status=1):\n",
      "STOP: TOTAL NO. of ITERATIONS REACHED LIMIT.\n",
      "\n",
      "Increase the number of iterations (max_iter) or scale the data as shown in:\n",
      "    https://scikit-learn.org/stable/modules/preprocessing.html\n",
      "Please also refer to the documentation for alternative solver options:\n",
      "    https://scikit-learn.org/stable/modules/linear_model.html#logistic-regression\n",
      "  n_iter_i = _check_optimize_result(\n"
     ]
    }
   ],
   "source": [
    "# Import the necessary libraries\n",
    "import pandas as pd\n",
    "import numpy as np\n",
    "from sklearn.model_selection import train_test_split\n",
    "from sklearn.linear_model import LogisticRegression\n",
    "from sklearn.metrics import classification_report\n",
    "from sklearn.datasets import load_breast_cancer\n",
    "\n",
    "# Load the Breast Cancer dataset\n",
    "breast_cancer = load_breast_cancer()\n",
    "\n",
    "# Convert the dataset to a Pandas DataFrame\n",
    "df = pd.DataFrame(breast_cancer.data, columns=breast_cancer.feature_names)\n",
    "\n",
    "# Add the target variable to the DataFrame\n",
    "df['diagnosis'] = breast_cancer.target\n",
    "\n",
    "# Load the dataset\n",
    "# df = pd.read_csv('breast_cancer.csv')\n",
    "\n",
    "# # Convert the diagnosis column to binary labels\n",
    "# df['diagnosis'] = np.where(df['diagnosis'] == 'M', 1, 0)\n",
    "\n",
    "# Split the data into training and test sets\n",
    "X_train, X_test, y_train, y_test = train_test_split(df.drop('diagnosis', axis=1), df['diagnosis'], test_size=0.2, random_state=42)\n",
    "\n",
    "# Create a logistic regression model\n",
    "lr = LogisticRegression()\n",
    "\n",
    "# Train the model on the training set\n",
    "lr.fit(X_train, y_train)\n",
    "\n",
    "# Make predictions on the test set\n",
    "y_pred = lr.predict(X_test)\n",
    "\n",
    "# Print the classification report\n",
    "print(classification_report(y_test, y_pred))\n"
   ]
  },
  {
   "cell_type": "code",
   "execution_count": null,
   "id": "54f978f2",
   "metadata": {},
   "outputs": [],
   "source": []
  }
 ],
 "metadata": {
  "kernelspec": {
   "display_name": "Python 3 (ipykernel)",
   "language": "python",
   "name": "python3"
  },
  "language_info": {
   "codemirror_mode": {
    "name": "ipython",
    "version": 3
   },
   "file_extension": ".py",
   "mimetype": "text/x-python",
   "name": "python",
   "nbconvert_exporter": "python",
   "pygments_lexer": "ipython3",
   "version": "3.9.12"
  }
 },
 "nbformat": 4,
 "nbformat_minor": 5
}
