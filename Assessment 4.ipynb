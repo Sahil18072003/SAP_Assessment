{
 "cells": [
  {
   "cell_type": "markdown",
   "id": "b97cd8c4",
   "metadata": {},
   "source": [
    "# 2. Create a model for number plate identification through an image and highlight the number plate using red coloured rectangle with thick edges. "
   ]
  },
  {
   "cell_type": "code",
   "execution_count": 1,
   "id": "299196eb",
   "metadata": {},
   "outputs": [
    {
     "data": {
      "text/plain": [
       "-1"
      ]
     },
     "execution_count": 1,
     "metadata": {},
     "output_type": "execute_result"
    }
   ],
   "source": [
    "import cv2\n",
    "#load the cascade\n",
    "np_cascade=cv2.CascadeClassifier('np.xml')\n",
    "#read the image\n",
    "img =cv2.imread('image.jpg')\n",
    "#convert color image into grayscale\n",
    "grey=cv2.cvtColor(img, cv2.COLOR_BGR2GRAY)\n",
    "#detect Plate\n",
    "np=np_cascade.detectMultiScale (grey, 1.04, 4)\n",
    "#draw rectengal on Plate\n",
    "\n",
    "for (x, y, w, h) in np:\n",
    "    cv2.rectangle(img, (x, y), (x+w , y+h), (20, 100 ,180), 2)\n",
    "cv2.imshow('Detected Plate', img)\n",
    "cv2.waitKey(0)"
   ]
  },
  {
   "cell_type": "markdown",
   "id": "a4d65eea",
   "metadata": {},
   "source": [
    "# 3. Create a model for number plate identification through webcam and highlight the number plate using red coloured rectangle with thick edges. "
   ]
  },
  {
   "cell_type": "code",
   "execution_count": null,
   "id": "93da4251",
   "metadata": {},
   "outputs": [],
   "source": [
    "import cv2\n",
    "\n",
    "# Create a video capture object for the default webcam\n",
    "cap = cv2.VideoCapture(0)\n",
    "\n",
    "while True:\n",
    "    # Read a frame from the webcam\n",
    "    ret, frame = cap.read()\n",
    "\n",
    "    # Convert the frame to grayscale\n",
    "    gray = cv2.cvtColor(frame, cv2.COLOR_BGR2GRAY)\n",
    "\n",
    "    # Apply Gaussian blur to remove noise\n",
    "    blur = cv2.GaussianBlur(gray, (5, 5), 0)\n",
    "\n",
    "    # Apply Canny edge detection to detect edges\n",
    "    edges = cv2.Canny(blur, 100, 200)\n",
    "\n",
    "    # Find contours in the image\n",
    "    contours, hierarchy = cv2.findContours(edges, cv2.RETR_TREE, cv2.CHAIN_APPROX_SIMPLE)\n",
    "\n",
    "    # Find the contour with the largest area, which is likely to be the number plate\n",
    "    max_area = 0\n",
    "    max_contour = None\n",
    "    for contour in contours:\n",
    "        area = cv2.contourArea(contour)\n",
    "        if area > max_area:\n",
    "            max_area = area\n",
    "            max_contour = contour\n",
    "\n",
    "    # Get the bounding rectangle of the contour\n",
    "    if max_contour is not None:\n",
    "        x, y, w, h = cv2.boundingRect(max_contour)\n",
    "\n",
    "        # Draw a red rectangle with thick edges around the bounding rectangle\n",
    "        cv2.rectangle(frame, (x, y), (x + w, y + h), (0, 0, 255), 2)\n",
    "\n",
    "    # Show the result\n",
    "    cv2.imshow(\"Number Plate Identification\", frame)\n",
    "\n",
    "    # Exit if the user presses the 'q' key\n",
    "    if cv2.waitKey(1) & 0xFF == ord('q'):\n",
    "        break\n",
    "\n",
    "# Release the video capture object and destroy all windows\n",
    "cap.release()\n",
    "cv2.destroyAllWindows()\n"
   ]
  },
  {
   "cell_type": "code",
   "execution_count": null,
   "id": "8b548a68",
   "metadata": {},
   "outputs": [],
   "source": []
  }
 ],
 "metadata": {
  "kernelspec": {
   "display_name": "Python 3 (ipykernel)",
   "language": "python",
   "name": "python3"
  },
  "language_info": {
   "codemirror_mode": {
    "name": "ipython",
    "version": 3
   },
   "file_extension": ".py",
   "mimetype": "text/x-python",
   "name": "python",
   "nbconvert_exporter": "python",
   "pygments_lexer": "ipython3",
   "version": "3.9.12"
  }
 },
 "nbformat": 4,
 "nbformat_minor": 5
}
