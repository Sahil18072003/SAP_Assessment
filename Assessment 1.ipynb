{
 "cells": [
  {
   "cell_type": "markdown",
   "id": "6c578264",
   "metadata": {},
   "source": [
    "# Name: SAHIL DHARAVIYA"
   ]
  },
  {
   "cell_type": "markdown",
   "id": "dfc837fb",
   "metadata": {},
   "source": [
    "# 1. Write a Python program to swap first and last element of the list. "
   ]
  },
  {
   "cell_type": "code",
   "execution_count": 3,
   "id": "baae067a",
   "metadata": {},
   "outputs": [
    {
     "name": "stdout",
     "output_type": "stream",
     "text": [
      "[89, 45, 23, 67, 100]\n"
     ]
    }
   ],
   "source": [
    "def swapList(list):\n",
    "    get = list[-1], list[0]\n",
    "    list[0], list[-1] = get\n",
    "    return list\n",
    "\n",
    "newList = [100, 45, 23, 67, 89]\n",
    "print(swapList(newList))\n"
   ]
  },
  {
   "cell_type": "markdown",
   "id": "10faaa12",
   "metadata": {},
   "source": [
    "# 2. Write Python program to find the length of list using for loop. "
   ]
  },
  {
   "cell_type": "code",
   "execution_count": 4,
   "id": "8230467b",
   "metadata": {},
   "outputs": [
    {
     "name": "stdout",
     "output_type": "stream",
     "text": [
      "The list is : [10, 56, 23, 89, 23, 45, 90, 110, 34, 78]\n",
      "Length of list is : 10\n"
     ]
    }
   ],
   "source": [
    "test_list = [10,56,23,89,23,45,90,110,34,78]\n",
    " \n",
    "print(\"The list is : \" + str(test_list))\n",
    "\n",
    "counter = 0\n",
    "for i in test_list:\n",
    " \n",
    "    counter = counter + 1\n",
    "\n",
    "print(\"Length of list is : \" + str(counter))"
   ]
  },
  {
   "cell_type": "markdown",
   "id": "14205ae7",
   "metadata": {},
   "source": [
    "# 5. Write a python program to add matrices of dimension 3-by-3 with given matrix\n",
    "## a=[[ 9 10 11]\n",
    "##     [12 13 14]\n",
    "##     [15 16 17]]\n",
    "## b=[[ 19 30 11]\n",
    "##     [12 13 44]\n",
    "##     [15 56 17]] "
   ]
  },
  {
   "cell_type": "code",
   "execution_count": 6,
   "id": "33226c34",
   "metadata": {},
   "outputs": [
    {
     "name": "stdout",
     "output_type": "stream",
     "text": [
      "[28, 40, 22]\n",
      "[24, 26, 58]\n",
      "[30, 72, 34]\n"
     ]
    }
   ],
   "source": [
    "a=[[9, 10, 11],\n",
    "[12, 13, 14],\n",
    "[15, 16, 17]]\n",
    "\n",
    "b=[[19, 30, 11,],\n",
    "[12, 13, 44],\n",
    "[15, 56, 17]] \n",
    "\n",
    "\n",
    "result =[[0,0,0],\n",
    "        [0,0,0],\n",
    "        [0,0,0]]\n",
    "\n",
    "for i in range(len(a)):\n",
    "    for j in range(len(a[0])):\n",
    "        result[i][j] = a[i][j] + b[i][j]\n",
    "\n",
    "for r in result:\n",
    "    print(r)\n"
   ]
  },
  {
   "cell_type": "markdown",
   "id": "a1616984",
   "metadata": {},
   "source": [
    "# 7. Write a program in python using NumPy to find the matrix mean. "
   ]
  },
  {
   "cell_type": "code",
   "execution_count": 9,
   "id": "ec0383bb",
   "metadata": {},
   "outputs": [
    {
     "name": "stdout",
     "output_type": "stream",
     "text": [
      "53.333333333333336\n"
     ]
    }
   ],
   "source": [
    "import numpy as np\n",
    "\n",
    "Random = np.matrix('[10,56,23],[89,23,45],[90,110,34]')\n",
    "\n",
    "Mean = Random.mean()\n",
    "\n",
    "print(Mean)\n"
   ]
  },
  {
   "cell_type": "markdown",
   "id": "fd0a3edd",
   "metadata": {},
   "source": [
    "# 4.  Write a python Matplotlib program to plot y=x^2 (parabola) and add text \"Parabola Y = x^2\" in the plot."
   ]
  },
  {
   "cell_type": "code",
   "execution_count": 27,
   "id": "2815a844",
   "metadata": {},
   "outputs": [
    {
     "data": {
      "image/png": "[encoded data removed]",
      "text/plain": [
       "<Figure size 432x288 with 1 Axes>"
      ]
     },
     "metadata": {
      "needs_background": "light"
     },
     "output_type": "display_data"
    }
   ],
   "source": [
    "import matplotlib.pyplot as plt\n",
    "import numpy as np\n",
    "  \n",
    "x = np.arange(-20, 20, 0.01)\n",
    "y = x**2\n",
    "  \n",
    "#adding text inside the plot\n",
    "plt.text(-10, 180, 'Parabola $Y = x^2$', fontsize = 22)\n",
    "  \n",
    "plt.plot(x, y, c='g')\n",
    "  \n",
    "plt.xlabel(\"X-axis\", fontsize = 15)\n",
    "plt.ylabel(\"Y-axis\",fontsize = 15)\n",
    "  \n",
    "plt.show()"
   ]
  },
  {
   "cell_type": "markdown",
   "id": "a8c0333e",
   "metadata": {},
   "source": [
    "# 1. In Linux environment, create a python file for addition of two lists. Run piece of code from terminal"
   ]
  },
  {
   "cell_type": "code",
   "execution_count": 29,
   "id": "5115e197",
   "metadata": {},
   "outputs": [
    {
     "name": "stdout",
     "output_type": "stream",
     "text": [
      "Resultant list is: [38, 126, 99]\n"
     ]
    }
   ],
   "source": [
    "list1 = [15,67,34]\n",
    "list2 = [23,59,65]\n",
    "\n",
    "result = [a + b for a, b in zip(list1, list2)]\n",
    "\n",
    "print(\"Resultant list is:\", result)"
   ]
  },
  {
   "cell_type": "markdown",
   "id": "b87a88fa",
   "metadata": {},
   "source": [
    "# 2. In Linux environment create two folders named Folder1 and Folder2. Place some .txt file in Folder1. Write needful commands in terminal to move the contents from Folder1 to Folder2."
   ]
  },
  {
   "cell_type": "code",
   "execution_count": null,
   "id": "372b4ee2",
   "metadata": {},
   "outputs": [],
   "source": [
    "cd Desktop\n",
    "mkdir Folder1 Folder2\n",
    "ls\n",
    "cd Folder1\n",
    "touch 1st.txt 2nd.txt 3rd.txt 4th.txt 5th.txt\n",
    "ls\n",
    "mv 1st.txt 2nd.txt home/Sahil/Desktop/Folder2/\n",
    "cd Folder2\n",
    "ls"
   ]
  }
 ],
 "metadata": {
  "kernelspec": {
   "display_name": "Python 3 (ipykernel)",
   "language": "python",
   "name": "python3"
  },
  "language_info": {
   "codemirror_mode": {
    "name": "ipython",
    "version": 3
   },
   "file_extension": ".py",
   "mimetype": "text/x-python",
   "name": "python",
   "nbconvert_exporter": "python",
   "pygments_lexer": "ipython3",
   "version": "3.9.12"
  }
 },
 "nbformat": 4,
 "nbformat_minor": 5
}
