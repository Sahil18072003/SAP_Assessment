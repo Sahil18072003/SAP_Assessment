{
 "cells": [
  {
   "cell_type": "markdown",
   "id": "042d0d4e",
   "metadata": {},
   "source": [
    "# 1. Write down steps to load Rasberry OS into SdCard."
   ]
  },
  {
   "cell_type": "markdown",
   "id": "bf6b41e5",
   "metadata": {},
   "source": [
    "## The steps to load Raspberry OS onto an SD card:\n",
    "1. Download the latest version of Raspberry OS from the official Raspberry Pi website.\n",
    "\n",
    "\n",
    "2. Insert the SD card into your computer using an SD card reader.\n",
    "\n",
    "\n",
    "3. Download and install a suitable image writer tool. You can use popular image writers like BalenaEtcher, Win32DiskImager or Raspberry Pi Imager.\n",
    "\n",
    "\n",
    "4. Open the image writer tool and select the downloaded Raspberry OS image file and the SD card.\n",
    "\n",
    "\n",
    "5. Confirm the details and click on the \"Write\" button to begin the writing process.\n",
    "\n",
    "\n",
    "6. Wait for the process to complete. This may take a few minutes depending on the speed of your computer and SD card.\n",
    "\n",
    "\n",
    "7. Once the writing process is complete, safely eject the SD card from your computer.\n",
    "\n",
    "\n",
    "8. You have now successfully loaded the Raspberry OS onto the SD card, which can be used to boot up your Raspberry Pi device.\n"
   ]
  },
  {
   "cell_type": "markdown",
   "id": "cb49c1bb",
   "metadata": {},
   "source": [
    "# 2. Write a program to blink LED. keep ON time of 1 second and OFF time 0.5 second. Also write down steps to connect LED with GrovePi+ and Raspberry Pi."
   ]
  },
  {
   "cell_type": "markdown",
   "id": "77b511d2",
   "metadata": {},
   "source": [
    "import time\n",
    "import grovepi\n",
    "\n",
    "led_pin = 5\n",
    "\n",
    "while True:\n",
    "    grovepi.digitalWrite(led_pin, 1)\n",
    "    # turn on the LED\n",
    "    time.sleep(1)\n",
    "    # wait for 1 second\n",
    "    grovepi.digitalWrite(led_pin, 0)  \n",
    "    # turn off the LED\n",
    "    time.sleep(0.5)  \n",
    "    # wait for 0.5 seconds\n",
    "    \n"
   ]
  }
 ],
 "metadata": {
  "kernelspec": {
   "display_name": "Python 3 (ipykernel)",
   "language": "python",
   "name": "python3"
  },
  "language_info": {
   "codemirror_mode": {
    "name": "ipython",
    "version": 3
   },
   "file_extension": ".py",
   "mimetype": "text/x-python",
   "name": "python",
   "nbconvert_exporter": "python",
   "pygments_lexer": "ipython3",
   "version": "3.9.12"
  }
 },
 "nbformat": 4,
 "nbformat_minor": 5
}
